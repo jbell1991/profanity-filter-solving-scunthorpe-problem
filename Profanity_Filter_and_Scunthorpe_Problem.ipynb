{
  "nbformat": 4,
  "nbformat_minor": 0,
  "metadata": {
    "colab": {
      "name": "Profanity Filter and Scunthorpe Problem.ipynb",
      "provenance": [],
      "collapsed_sections": [],
      "authorship_tag": "ABX9TyMci2ujVjLsqY4BrU3BcIad",
      "include_colab_link": true
    },
    "kernelspec": {
      "name": "python3",
      "display_name": "Python 3"
    }
  },
  "cells": [
    {
      "cell_type": "markdown",
      "metadata": {
        "id": "view-in-github",
        "colab_type": "text"
      },
      "source": [
        "<a href=\"https://colab.research.google.com/github/jbell1991/profanity-filter-solving-scunthorpe-problem/blob/master/Profanity_Filter_and_Scunthorpe_Problem.ipynb\" target=\"_parent\"><img src=\"https://colab.research.google.com/assets/colab-badge.svg\" alt=\"Open In Colab\"/></a>"
      ]
    },
    {
      "cell_type": "markdown",
      "metadata": {
        "id": "oey1YuVbc3K2",
        "colab_type": "text"
      },
      "source": [
        "# The Problem to be Solved \n",
        "\n",
        "For my Lambda Labs project, I was tasked with creating a profanity filter for a children's reading app called Story Squad.  Story Squad prompts kids to read a new story or chapter of a book every week.  They then write their own creative story and draw a picture that branches off what they read.  The stories are handwritten to promote creativity from the students.  Their handwriting is read by the [Google Cloud Vision API](https://https://cloud.google.com/vision/?utm_source=google&utm_medium=cpc&utm_campaign=na-US-all-en-dr-bkws-all-all-trial-e-dr-1009135&utm_content=text-ad-none-any-DEV_c-CRE_291249276628-ADGP_Hybrid+%7C+AW+SEM+%7C+BKWS+%7C+US+%7C+en+%7C+EXA+~+ML/AI+~+Vision+API+~+Google+Cloud+Vision+Api-KWID_43700036257547156-kwd-475108777569&utm_term=KW_google%20cloud%20vision%20api-ST_Google+Cloud+Vision+Api&gclid=EAIaIQobChMI9PTkyvaB6wIVGey1Ch1p4gqpEAAYASAAEgJwjfD_BwE), which converts handwritten letters to typed text.\n",
        "\n",
        "Kids will be kids and from time to time inappropriate language might seep into the user experience.  Parents want to be able to trust their children are safe using the app.  However, we don't want to deny students entry if their story was falsely flagged for profanity.  All stories are reviewed by human eyes to comply with the [Children's Online Privacy Protection Rule](https://www.ftc.gov/enforcement/rules/rulemaking-regulatory-reform-proceedings/childrens-online-privacy-protection-rule) (\"COPPA\"), but we could prioritize stories to be reviewed by a moderator by flagging ones with possible profane words.  If a story is flagged, a moderator will review it before others and see if the flag is a true or false positive.  \n",
        "\n",
        "# Options\n",
        "\n",
        "One option explored was uing python packages to find profanity.  Profanity-filter worked well on most words, but still missed some individual words, missed phrases and did well to avoid flagging Scunthorpe like words.  \n",
        "\n",
        "Another option was a package called profanity check, which uses machine learning and not an explicit list of words to censor.  However, profanity-check also failed to catch certain phrases.  "
      ]
    },
    {
      "cell_type": "code",
      "metadata": {
        "id": "XF5-jV5GUWm4",
        "colab_type": "code",
        "colab": {
          "base_uri": "https://localhost:8080/",
          "height": 71
        },
        "outputId": "0880150d-bd51-4d07-c7f6-061f58df2e8c"
      },
      "source": [
        "# install profanity-filter\n",
        "pip install profanity-filter"
      ],
      "execution_count": 2,
      "outputs": [
        {
          "output_type": "stream",
          "text": [
            "      Successfully uninstalled dataclasses-0.7\n",
            "Successfully installed cached-property-1.5.1 dataclasses-0.6 ordered-set-3.1.1 ordered-set-stubs-0.1.3 poetry-version-0.1.5 profanity-filter-1.3.3 pydantic-1.6.1 redis-3.5.3 ruamel.yaml-0.15.100 tomlkit-0.5.11\n"
          ],
          "name": "stdout"
        }
      ]
    },
    {
      "cell_type": "code",
      "metadata": {
        "id": "G9oGwpSVUerb",
        "colab_type": "code",
        "colab": {
          "base_uri": "https://localhost:8080/",
          "height": 51
        },
        "outputId": "8e5867b3-1193-474a-ca13-540c044de1ba"
      },
      "source": [
        "# install profanity-check\n",
        "pip install profanity-check"
      ],
      "execution_count": 3,
      "outputs": [
        {
          "output_type": "stream",
          "text": [
            "Installing collected packages: profanity-check\n",
            "Successfully installed profanity-check-1.0.3\n"
          ],
          "name": "stdout"
        }
      ]
    },
    {
      "cell_type": "code",
      "metadata": {
        "id": "4Z6crk4xVgrj",
        "colab_type": "code",
        "colab": {}
      },
      "source": [
        "# imports\n",
        "from json import loads, dumps\n",
        "import pandas as pd \n",
        "from profanity_filter import ProfanityFilter\n",
        "from profanity_check import predict, predict_prob"
      ],
      "execution_count": 23,
      "outputs": []
    },
    {
      "cell_type": "code",
      "metadata": {
        "id": "qE_JD6JzTMz4",
        "colab_type": "code",
        "colab": {
          "base_uri": "https://localhost:8080/",
          "height": 52
        },
        "outputId": "57336c0d-578e-4a73-d0a3-b2bb126dedda"
      },
      "source": [
        "# using profanity-filter package\n",
        "pf = ProfanityFilter()\n",
        "\n",
        "# doesn't work on certain inappropriate words and phrases\n",
        "# but isn't triggerd by Scunthorpe Problem words\n",
        "pf.censor(\"Shit piss fuck cunt cocksucker motherfucker tits fuck turd donkey punch assasin and twat grape scunthorpe shell\")"
      ],
      "execution_count": 6,
      "outputs": [
        {
          "output_type": "execute_result",
          "data": {
            "application/vnd.google.colaboratory.intrinsic+json": {
              "type": "string"
            },
            "text/plain": [
              "'**** **** **** **** ********** ************ **** **** **** donkey punch assasin and twat grape scunthorpe shell'"
            ]
          },
          "metadata": {
            "tags": []
          },
          "execution_count": 6
        }
      ]
    },
    {
      "cell_type": "code",
      "metadata": {
        "id": "KsX9gJaKUh3u",
        "colab_type": "code",
        "colab": {
          "base_uri": "https://localhost:8080/",
          "height": 35
        },
        "outputId": "be564584-f4e5-4f3a-ead5-ae5b18426478"
      },
      "source": [
        "# profanity filter doesn't work on certain inappropriate phrases\n",
        "pf.censor(\"2 girls 1 cup\")"
      ],
      "execution_count": 7,
      "outputs": [
        {
          "output_type": "execute_result",
          "data": {
            "application/vnd.google.colaboratory.intrinsic+json": {
              "type": "string"
            },
            "text/plain": [
              "'2 girls 1 cup'"
            ]
          },
          "metadata": {
            "tags": []
          },
          "execution_count": 7
        }
      ]
    },
    {
      "cell_type": "code",
      "metadata": {
        "id": "xU0h5sfYU0Fr",
        "colab_type": "code",
        "colab": {
          "base_uri": "https://localhost:8080/",
          "height": 34
        },
        "outputId": "b874f8e6-db9f-4876-cba9-7c2e1ff9928b"
      },
      "source": [
        "# profanity check doesn't work on inappropriate phrases either\n",
        "from profanity_check import predict, predict_prob\n",
        "\n",
        "predict(['2 girls 1 cup'])"
      ],
      "execution_count": 11,
      "outputs": [
        {
          "output_type": "execute_result",
          "data": {
            "text/plain": [
              "array([0])"
            ]
          },
          "metadata": {
            "tags": []
          },
          "execution_count": 11
        }
      ]
    },
    {
      "cell_type": "markdown",
      "metadata": {
        "id": "SZT5hMJnfjUt",
        "colab_type": "text"
      },
      "source": [
        "# Using a Custom List of Words\n",
        "\n",
        "The Story Squad stakeholder had a preference for flexibility in changing the list as slang changes.  Also, there are words that are inappropriate for elementary children that would not be considered inappropriate for adults.  These require a custom list of words"
      ]
    },
    {
      "cell_type": "code",
      "metadata": {
        "id": "_nWPwZvAU2sJ",
        "colab_type": "code",
        "colab": {
          "base_uri": "https://localhost:8080/",
          "height": 221
        },
        "outputId": "5190d772-9333-4950-a138-f0a172fe79a1"
      },
      "source": [
        "# load in bad words\n",
        "df = pd.read_csv('bad_single.csv', usecols=[0], names=None)\n",
        "print(df.shape)\n",
        "df.head()"
      ],
      "execution_count": 16,
      "outputs": [
        {
          "output_type": "stream",
          "text": [
            "(1395, 1)\n"
          ],
          "name": "stdout"
        },
        {
          "output_type": "execute_result",
          "data": {
            "text/html": [
              "<div>\n",
              "<style scoped>\n",
              "    .dataframe tbody tr th:only-of-type {\n",
              "        vertical-align: middle;\n",
              "    }\n",
              "\n",
              "    .dataframe tbody tr th {\n",
              "        vertical-align: top;\n",
              "    }\n",
              "\n",
              "    .dataframe thead th {\n",
              "        text-align: right;\n",
              "    }\n",
              "</style>\n",
              "<table border=\"1\" class=\"dataframe\">\n",
              "  <thead>\n",
              "    <tr style=\"text-align: right;\">\n",
              "      <th></th>\n",
              "      <th>Bad_words</th>\n",
              "    </tr>\n",
              "  </thead>\n",
              "  <tbody>\n",
              "    <tr>\n",
              "      <th>0</th>\n",
              "      <td>2g1c</td>\n",
              "    </tr>\n",
              "    <tr>\n",
              "      <th>1</th>\n",
              "      <td>4r5e</td>\n",
              "    </tr>\n",
              "    <tr>\n",
              "      <th>2</th>\n",
              "      <td>5h1t</td>\n",
              "    </tr>\n",
              "    <tr>\n",
              "      <th>3</th>\n",
              "      <td>5hit</td>\n",
              "    </tr>\n",
              "    <tr>\n",
              "      <th>4</th>\n",
              "      <td>a$$</td>\n",
              "    </tr>\n",
              "  </tbody>\n",
              "</table>\n",
              "</div>"
            ],
            "text/plain": [
              "  Bad_words\n",
              "0      2g1c\n",
              "1      4r5e\n",
              "2      5h1t\n",
              "3      5hit\n",
              "4       a$$"
            ]
          },
          "metadata": {
            "tags": []
          },
          "execution_count": 16
        }
      ]
    },
    {
      "cell_type": "code",
      "metadata": {
        "id": "AznJYqYNV7Wi",
        "colab_type": "code",
        "colab": {
          "base_uri": "https://localhost:8080/",
          "height": 221
        },
        "outputId": "bd4c1b9e-514d-41f6-9ba3-43675d9f58c1"
      },
      "source": [
        "# load in bad phrases\n",
        "df2 = pd.read_csv('bad_phrases.csv', usecols=[0], names=None)\n",
        "print(df2.shape)\n",
        "df2.head()"
      ],
      "execution_count": 17,
      "outputs": [
        {
          "output_type": "stream",
          "text": [
            "(215, 1)\n"
          ],
          "name": "stdout"
        },
        {
          "output_type": "execute_result",
          "data": {
            "text/html": [
              "<div>\n",
              "<style scoped>\n",
              "    .dataframe tbody tr th:only-of-type {\n",
              "        vertical-align: middle;\n",
              "    }\n",
              "\n",
              "    .dataframe tbody tr th {\n",
              "        vertical-align: top;\n",
              "    }\n",
              "\n",
              "    .dataframe thead th {\n",
              "        text-align: right;\n",
              "    }\n",
              "</style>\n",
              "<table border=\"1\" class=\"dataframe\">\n",
              "  <thead>\n",
              "    <tr style=\"text-align: right;\">\n",
              "      <th></th>\n",
              "      <th>Bad_phrases</th>\n",
              "    </tr>\n",
              "  </thead>\n",
              "  <tbody>\n",
              "    <tr>\n",
              "      <th>0</th>\n",
              "      <td>2 girls 1 cup</td>\n",
              "    </tr>\n",
              "    <tr>\n",
              "      <th>1</th>\n",
              "      <td>alabama hot pocket</td>\n",
              "    </tr>\n",
              "    <tr>\n",
              "      <th>2</th>\n",
              "      <td>alaskan pipeline</td>\n",
              "    </tr>\n",
              "    <tr>\n",
              "      <th>3</th>\n",
              "      <td>anal impaler</td>\n",
              "    </tr>\n",
              "    <tr>\n",
              "      <th>4</th>\n",
              "      <td>anal leakage</td>\n",
              "    </tr>\n",
              "  </tbody>\n",
              "</table>\n",
              "</div>"
            ],
            "text/plain": [
              "          Bad_phrases\n",
              "0       2 girls 1 cup\n",
              "1  alabama hot pocket\n",
              "2    alaskan pipeline\n",
              "3        anal impaler\n",
              "4        anal leakage"
            ]
          },
          "metadata": {
            "tags": []
          },
          "execution_count": 17
        }
      ]
    },
    {
      "cell_type": "code",
      "metadata": {
        "id": "_cEVTi_lXjZg",
        "colab_type": "code",
        "colab": {}
      },
      "source": [
        "# convert to list\n",
        "bad_words = df['Bad_words'].to_list()\n",
        "bad_phrases = df2['Bad_phrases'].to_list()\n",
        "# combine lists\n",
        "bad_words_combined = bad_words + bad_phrases"
      ],
      "execution_count": 41,
      "outputs": []
    },
    {
      "cell_type": "code",
      "metadata": {
        "id": "HCH1U4RJYVUu",
        "colab_type": "code",
        "colab": {}
      },
      "source": [
        "# flag True or False if string in transcriptions contains bad words from the list\n",
        "transcriptions = {'images': ['The quick alabama hot pocket donkey punch fuck shit however against grape scunthorpe'], \n",
        "          'metadata': []}\n",
        "\n",
        "def flag_bad_words(transcriptions):\n",
        "  # convert dict into str\n",
        "  parsed_string = dumps(transcriptions)\n",
        "  # determine if any words in the story are in the bad words list\n",
        "  res = any(word in parsed_string for word in bad_words_combined)\n",
        "  # return dictionary with True or False for backend to send to admin\n",
        "  if res == True:\n",
        "    dict = {'bad_words': [True]}\n",
        "    return transcriptions.update(dict)\n",
        "  else:\n",
        "    dict = {'bad_words': [False]}\n",
        "    return transcriptions.update(dict)"
      ],
      "execution_count": 42,
      "outputs": []
    },
    {
      "cell_type": "code",
      "metadata": {
        "id": "8hv2clvEYfRd",
        "colab_type": "code",
        "colab": {
          "base_uri": "https://localhost:8080/",
          "height": 88
        },
        "outputId": "85ccf735-73a0-41fd-ba4e-260b0eb08fba"
      },
      "source": [
        "# call function on transcriptions \n",
        "flag_bad_words(transcriptions)\n",
        "# show transcriptions\n",
        "transcriptions"
      ],
      "execution_count": 43,
      "outputs": [
        {
          "output_type": "execute_result",
          "data": {
            "text/plain": [
              "{'bad_words': [True],\n",
              " 'images': ['The quick alabama hot pocket donkey punch fuck shit however against grape scunthorpe'],\n",
              " 'metadata': []}"
            ]
          },
          "metadata": {
            "tags": []
          },
          "execution_count": 43
        }
      ]
    },
    {
      "cell_type": "code",
      "metadata": {
        "id": "IoVCtOh6Yi05",
        "colab_type": "code",
        "colab": {}
      },
      "source": [
        "def return_bad_words(transcriptions):\n",
        "  # convert dict to str\n",
        "  parsed_string = dumps(transcriptions)\n",
        "  # returns list of matching words\n",
        "  new_list = []\n",
        "  for word in bad_words_combined:\n",
        "    if word in parsed_string:\n",
        "      new_list.append(word)\n",
        "  # returns dictionary with list of matches\n",
        "  dict = {'possible_words' : new_list}\n",
        "  return transcriptions.update(dict)"
      ],
      "execution_count": 44,
      "outputs": []
    },
    {
      "cell_type": "code",
      "metadata": {
        "id": "tm68kqJwZRZB",
        "colab_type": "code",
        "colab": {
          "base_uri": "https://localhost:8080/",
          "height": 241
        },
        "outputId": "36f725eb-0d38-4c7e-bfbe-1b3e92a96bb7"
      },
      "source": [
        "# return possible bad words \n",
        "# as you can see the Scunthorpe problem exists return bad words within other words\n",
        "return_bad_words(transcriptions)\n",
        "transcriptions"
      ],
      "execution_count": 45,
      "outputs": [
        {
          "output_type": "execute_result",
          "data": {
            "text/plain": [
              "{'bad_words': [True],\n",
              " 'images': ['The quick alabama hot pocket donkey punch fuck shit however against grape scunthorpe'],\n",
              " 'metadata': [],\n",
              " 'possible_words': ['cunt',\n",
              "  'fuc',\n",
              "  'fuck',\n",
              "  'gai',\n",
              "  'ho',\n",
              "  'rape',\n",
              "  'shit',\n",
              "  'alabama hot pocket',\n",
              "  'donkey punch']}"
            ]
          },
          "metadata": {
            "tags": []
          },
          "execution_count": 45
        }
      ]
    },
    {
      "cell_type": "markdown",
      "metadata": {
        "id": "CiIDY7Fifr2l",
        "colab_type": "text"
      },
      "source": [
        "# Solving the Scunthorpe Problem"
      ]
    },
    {
      "cell_type": "markdown",
      "metadata": {
        "id": "QHRvrHAkfvJH",
        "colab_type": "text"
      },
      "source": [
        "Another problem with flagging profanity is that some words contain bad words within them.  For example, the word \"hell\" is in \"shell\" and while hell would be considered inappropriate for elementary students using the app, shell would not.  The problem is well-documented as the [Scunthorpe Problem](https://https://en.wikipedia.org/wiki/Scunthorpe_problem#:~:text=The%20Scunthorpe%20problem%20is%20the,obscene%20or%20otherwise%20unacceptable%20meaning.).  Scunthorpe is a town in England that contains a profane word.  A human would not make the mistake, but you could see how a computer might censor users from the town trying to set up an account on the web.  \n",
        "\n",
        "To fix the Scunthorpe problem rather than looking to see if a word from the bad words list is in the text, we need to find only exact matches.  "
      ]
    },
    {
      "cell_type": "code",
      "metadata": {
        "id": "PIMAtvHGaYk1",
        "colab_type": "code",
        "colab": {}
      },
      "source": [
        "# redefine transcriptions\n",
        "transcriptions = {'images': ['The quick alabama hot pocket donkey punch fuck shit however against grape scunthorpe'], \n",
        "          'metadata': []}"
      ],
      "execution_count": 47,
      "outputs": []
    },
    {
      "cell_type": "code",
      "metadata": {
        "id": "6q9K1h_Zact2",
        "colab_type": "code",
        "colab": {}
      },
      "source": [
        "# Global variable to put caught words and phrase in\n",
        "flagged_list = []\n",
        "\n",
        "# Function that removes punctuation from story\n",
        "def remove_punctuation(transcriptions):\n",
        "    parsed_string = dumps(transcriptions)\n",
        "    punctuations = '''[],!.'\"\\\\?'''\n",
        "    for char in parsed_string:\n",
        "        if char in punctuations:\n",
        "            parsed_string = parsed_string.replace(char, '')\n",
        "    return parsed_string\n",
        "\n",
        "\n",
        "# Function that looks for bad phrases in story\n",
        "def return_bad_phrases(transcriptions):\n",
        "    # Convert dict to str using dumps to keep phrases in tact\n",
        "    parsed_string = dumps(transcriptions)\n",
        "    # Lowercase to match list of bad phrases\n",
        "    parsed_string = parsed_string.lower()\n",
        "    # Remove punctuation\n",
        "    parsed_string = remove_punctuation(parsed_string)\n",
        "    # Returns list of matching words and puts in flagged_list global variable\n",
        "    for word in bad_phrases:\n",
        "        if word in parsed_string:\n",
        "            flagged_list.append(word)\n",
        "    # Returns dictionary with list of matches\n",
        "    dict = {'possible_words' : flagged_list}\n",
        "    return transcriptions.update(dict)\n",
        "\n",
        "\n",
        "# Function that looks for single bad words in story\n",
        "def return_bad_words(transcriptions):\n",
        "    # Parsing out just the story string from dict to avoid conflicts\n",
        "    parsed_string = list(transcriptions.values())[0][0]\n",
        "    # Lowercase to match list of bad words\n",
        "    parsed_string = parsed_string.lower()\n",
        "    # Remove punctuation\n",
        "    parsed_string = remove_punctuation(parsed_string)\n",
        "    # Splitting into list of strings to detect exact matches\n",
        "    parsed_string = parsed_string.split()\n",
        "    # Finding matches and appending them to flagged_list\n",
        "    for word in bad_words:\n",
        "        if word in parsed_string:\n",
        "            flagged_list.append(word)\n",
        "    # Returns dictionary with list of matches\n",
        "    dict = {'possible_words' : flagged_list}\n",
        "    return transcriptions.update(dict)\n",
        "\n",
        "\n",
        "# Checks to see if any words have been added to the flagged_list\n",
        "def flag_bad_words(transcriptions):\n",
        "    if any(flagged_list):\n",
        "        dict = {'flagged' : [True]}\n",
        "        return transcriptions.update(dict)\n",
        "    else:\n",
        "        dict = {'flagged' : [False]}\n",
        "        return transcriptions.update(dict)"
      ],
      "execution_count": 48,
      "outputs": []
    },
    {
      "cell_type": "code",
      "metadata": {
        "id": "5MEBu0hyamt9",
        "colab_type": "code",
        "colab": {}
      },
      "source": [
        "# call functions on transcriptions\n",
        "return_bad_phrases(transcriptions)\n",
        "return_bad_words(transcriptions)"
      ],
      "execution_count": 49,
      "outputs": []
    },
    {
      "cell_type": "code",
      "metadata": {
        "id": "bHscPsk8aral",
        "colab_type": "code",
        "colab": {
          "base_uri": "https://localhost:8080/",
          "height": 88
        },
        "outputId": "51e28e9d-73e5-4884-ff92-09a48808f788"
      },
      "source": [
        "# Scunthorpe Problem solved!\n",
        "transcriptions"
      ],
      "execution_count": 50,
      "outputs": [
        {
          "output_type": "execute_result",
          "data": {
            "text/plain": [
              "{'images': ['The quick alabama hot pocket donkey punch fuck shit however against grape scunthorpe'],\n",
              " 'metadata': [],\n",
              " 'possible_words': ['alabama hot pocket', 'donkey punch', 'fuck', 'shit']}"
            ]
          },
          "metadata": {
            "tags": []
          },
          "execution_count": 50
        }
      ]
    }
  ]
}